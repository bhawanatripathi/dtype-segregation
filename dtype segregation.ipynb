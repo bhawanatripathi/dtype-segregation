{
 "cells": [
  {
   "cell_type": "code",
   "execution_count": null,
   "id": "799bac78",
   "metadata": {},
   "outputs": [],
   "source": [
    "l=[\"dog\",12,8.0,\"men\",55,342,56.67,True,12.3]\n",
    "intlist=[12]\n",
    "floatlist=[]\n",
    "stringlist=[\"mm\"]\n",
    "boollist=[]\n",
    "for i in l:\n",
    "    if i==True or i==False:\n",
    "        boollist.append(i)\n",
    "        continue\n",
    "    try:\n",
    "        if i+intlist[0]:\n",
    "            if int(i)==i:\n",
    "                intlist.append(i)\n",
    "            else:\n",
    "                floatlist.append(i)\n",
    "    except:\n",
    "        if i+stringlist[0]:\n",
    "            stringlist.append(i)\n",
    "                \n",
    "        \n",
    "            \n",
    "intlist=intlist[1:]\n",
    "stringlist=stringlist[1:]\n",
    "floatlist=floatlist[:]\n",
    "print(\"boollist\",boollist)\n",
    "print(\"floatlist\",floatlist)\n",
    "print(\"intlist\",intlist)\n",
    "print(\"stringlist\",stringlist)\n"
   ]
  }
 ],
 "metadata": {
  "kernelspec": {
   "display_name": "Python 3",
   "language": "python",
   "name": "python3"
  },
  "language_info": {
   "codemirror_mode": {
    "name": "ipython",
    "version": 3
   },
   "file_extension": ".py",
   "mimetype": "text/x-python",
   "name": "python",
   "nbconvert_exporter": "python",
   "pygments_lexer": "ipython3",
   "version": "3.9.5"
  }
 },
 "nbformat": 4,
 "nbformat_minor": 5
}
